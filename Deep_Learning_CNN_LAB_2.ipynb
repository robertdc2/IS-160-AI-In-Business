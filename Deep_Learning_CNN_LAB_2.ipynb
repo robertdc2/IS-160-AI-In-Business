{
  "nbformat": 4,
  "nbformat_minor": 0,
  "metadata": {
    "colab": {
      "provenance": [],
      "include_colab_link": true
    },
    "kernelspec": {
      "name": "python3",
      "display_name": "Python 3"
    },
    "language_info": {
      "name": "python"
    }
  },
  "cells": [
    {
      "cell_type": "markdown",
      "metadata": {
        "id": "view-in-github",
        "colab_type": "text"
      },
      "source": [
        "<a href=\"https://colab.research.google.com/github/robertdc2/IS-160-AI-In-Business/blob/Lab-2-Deep-Learning-CNN-with-Dot-Product/Deep_Learning_CNN_LAB_2.ipynb\" target=\"_parent\"><img src=\"https://colab.research.google.com/assets/colab-badge.svg\" alt=\"Open In Colab\"/></a>"
      ]
    },
    {
      "cell_type": "markdown",
      "source": [
        "robert sanchez Angel Martinez"
      ],
      "metadata": {
        "id": "9o_lzKx5kcBg"
      }
    },
    {
      "cell_type": "markdown",
      "source": [
        "# Forward Propagation using Dot Product"
      ],
      "metadata": {
        "id": "F98Kf3Cbr17W"
      }
    },
    {
      "cell_type": "code",
      "source": [
        "# forward progagation\n",
        "import numpy as np\n",
        "input_data = np.array([2,3])\n",
        "weights = {'node_0':np.array([1,1]),\n",
        "           'node_1':np.array([-1,1]),\n",
        "           'output':np.array([2,-1])}\n",
        "node_0_value = (input_data*weights['node_0']).sum()\n",
        "node_1_value = (input_data*weights['node_1']).sum()\n"
      ],
      "metadata": {
        "id": "Sww9F_Knn7GH"
      },
      "execution_count": null,
      "outputs": []
    },
    {
      "cell_type": "code",
      "source": [
        "hidden_layer_values = np.array([node_0_value, node_1_value])\n",
        "print(hidden_layer_values)"
      ],
      "metadata": {
        "colab": {
          "base_uri": "https://localhost:8080/"
        },
        "id": "F-p_msRex2eH",
        "outputId": "2be5e444-86ad-4d7b-c004-8850cf7bce21"
      },
      "execution_count": null,
      "outputs": [
        {
          "output_type": "stream",
          "name": "stdout",
          "text": [
            "[5 1]\n"
          ]
        }
      ]
    },
    {
      "cell_type": "code",
      "source": [
        "output = (hidden_layer_values * weights['output']).sum()\n",
        "print(output)"
      ],
      "metadata": {
        "colab": {
          "base_uri": "https://localhost:8080/"
        },
        "id": "ng4Haja3yHfR",
        "outputId": "f4177c45-e693-43e6-e843-c6dd3806a00e"
      },
      "execution_count": null,
      "outputs": [
        {
          "output_type": "stream",
          "name": "stdout",
          "text": [
            "9\n"
          ]
        }
      ]
    },
    {
      "cell_type": "markdown",
      "source": [
        "![Deep Learning CNN Model.jpg](data:image/jpeg;base64,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)"
      ],
      "metadata": {
        "id": "oEZ3LzkSuLuH"
      }
    },
    {
      "cell_type": "markdown",
      "source": [
        "## Try with a different model structure"
      ],
      "metadata": {
        "id": "WPKGP1o0usN9"
      }
    },
    {
      "cell_type": "code",
      "source": [
        "robert sanchez Angel Martinez"
      ],
      "metadata": {
        "id": "2sDQUojPsX7P"
      },
      "execution_count": null,
      "outputs": []
    },
    {
      "cell_type": "code",
      "source": [
        "import numpy as np"
      ],
      "metadata": {
        "id": "e7rsD-oXlp0l"
      },
      "execution_count": null,
      "outputs": []
    },
    {
      "cell_type": "code",
      "source": [
        "input_data = np.array([3,3])\n",
        "weights = {'node_0':np.array([1,1]),\n",
        "           'node_1':np.array([0,1]),\n",
        "           'node_2':np.array([-1,0]),\n",
        "           'output':np.array([1,-1])}\n",
        "node_0_value = (input_data*weights['node_0']).sum()\n",
        "node_1_value = (input_data*weights['node_1']).sum()"
      ],
      "metadata": {
        "id": "t-HhT5KEluMs"
      },
      "execution_count": null,
      "outputs": []
    },
    {
      "cell_type": "code",
      "source": [
        "hidden_layer_values = np.array([node_0_value, node_1_value])\n",
        "print(hidden_layer_values)"
      ],
      "metadata": {
        "colab": {
          "base_uri": "https://localhost:8080/"
        },
        "id": "vpn9ONMhlwYz",
        "outputId": "6dbe1e28-4517-47a2-bf27-bdbcd488f3ef"
      },
      "execution_count": null,
      "outputs": [
        {
          "output_type": "stream",
          "name": "stdout",
          "text": [
            "[6 3]\n"
          ]
        }
      ]
    },
    {
      "cell_type": "code",
      "source": [
        "output = (hidden_layer_values * weights['output']).sum()\n",
        "print(output)"
      ],
      "metadata": {
        "colab": {
          "base_uri": "https://localhost:8080/"
        },
        "id": "kfVDeCQJlyJT",
        "outputId": "e69b82c2-8307-41a2-8b54-4e9e14178802"
      },
      "execution_count": null,
      "outputs": [
        {
          "output_type": "stream",
          "name": "stdout",
          "text": [
            "3\n"
          ]
        }
      ]
    },
    {
      "cell_type": "code",
      "source": [
        "# Added one extra weight to the node and got a different value for both the hidden weights and output.\n",
        "# Output changed from a 9 to a 3"
      ],
      "metadata": {
        "id": "1Z946GPQsrcW"
      },
      "execution_count": null,
      "outputs": []
    },
    {
      "cell_type": "markdown",
      "source": [
        "\n",
        "\n",
        "```\n",
        "# This is formatted as code\n",
        "```\n",
        "\n"
      ],
      "metadata": {
        "id": "urqsK6tfr9wK"
      }
    },
    {
      "cell_type": "code",
      "source": [
        "import tensorflow as tf\n",
        "from tensorflow import keras"
      ],
      "metadata": {
        "id": "mqPcvdv2-1be"
      },
      "execution_count": null,
      "outputs": []
    },
    {
      "cell_type": "code",
      "source": [
        "# Load the MNIST dataset\n",
        "mnist = keras.datasets.mnist\n",
        "(train_images, train_labels), (test_images, test_labels) = mnist.load_data()"
      ],
      "metadata": {
        "colab": {
          "base_uri": "https://localhost:8080/"
        },
        "id": "AJvG_Sva-9-I",
        "outputId": "b2abd4f2-5d27-4d0a-93eb-f59bd52336b5"
      },
      "execution_count": null,
      "outputs": [
        {
          "output_type": "stream",
          "name": "stdout",
          "text": [
            "Downloading data from https://storage.googleapis.com/tensorflow/tf-keras-datasets/mnist.npz\n",
            "11490434/11490434 [==============================] - 1s 0us/step\n"
          ]
        }
      ]
    },
    {
      "cell_type": "code",
      "source": [
        "# Normalize the pixel values to be between 0 and 1\n",
        "train_images = train_images / 255.0\n",
        "test_images = test_images / 255.0\n"
      ],
      "metadata": {
        "id": "LidL7vXZ_Bgn"
      },
      "execution_count": null,
      "outputs": []
    },
    {
      "cell_type": "code",
      "source": [
        "# Create a simple feedforward neural network model\n",
        "model = keras.Sequential([\n",
        "    keras.layers.Flatten(input_shape=(28, 28)),  # Flatten the 28x28 input images\n",
        "    keras.layers.Dense(64, activation='relu'),  # Fully connected layer with 64 units and ReLU activation\n",
        "    keras.layers.Dense(10, activation='softmax')  # Output layer with 10 units (one for each digit) and softmax activation\n",
        "])"
      ],
      "metadata": {
        "id": "hEc6BMoZ_EYg"
      },
      "execution_count": null,
      "outputs": []
    },
    {
      "cell_type": "code",
      "source": [
        "# Compile the model\n",
        "model.compile(optimizer='adam',\n",
        "              loss='sparse_categorical_crossentropy',\n",
        "              metrics=['accuracy'])"
      ],
      "metadata": {
        "id": "KChxTbGa_HS0"
      },
      "execution_count": null,
      "outputs": []
    },
    {
      "cell_type": "code",
      "source": [
        "# Train the model\n",
        "model.fit(train_images, train_labels, epochs=5)"
      ],
      "metadata": {
        "colab": {
          "base_uri": "https://localhost:8080/"
        },
        "id": "7LK0j0IO_KGj",
        "outputId": "046d8cfa-5924-4c79-d6ad-498f08323fc6"
      },
      "execution_count": null,
      "outputs": [
        {
          "output_type": "stream",
          "name": "stdout",
          "text": [
            "Epoch 1/5\n",
            "1875/1875 [==============================] - 7s 3ms/step - loss: 0.2968 - accuracy: 0.9153\n",
            "Epoch 2/5\n",
            "1875/1875 [==============================] - 5s 3ms/step - loss: 0.1446 - accuracy: 0.9571\n",
            "Epoch 3/5\n",
            "1875/1875 [==============================] - 6s 3ms/step - loss: 0.1043 - accuracy: 0.9687\n",
            "Epoch 4/5\n",
            "1875/1875 [==============================] - 5s 3ms/step - loss: 0.0814 - accuracy: 0.9750\n",
            "Epoch 5/5\n",
            "1875/1875 [==============================] - 6s 3ms/step - loss: 0.0666 - accuracy: 0.9797\n"
          ]
        },
        {
          "output_type": "execute_result",
          "data": {
            "text/plain": [
              "<keras.src.callbacks.History at 0x7c395e39db70>"
            ]
          },
          "metadata": {},
          "execution_count": 6
        }
      ]
    },
    {
      "cell_type": "code",
      "source": [
        "# Evaluate the model on the test dataset\n",
        "test_loss, test_accuracy = model.evaluate(test_images, test_labels)\n",
        "print(f'Test accuracy: {test_accuracy * 100:.2f}%')"
      ],
      "metadata": {
        "colab": {
          "base_uri": "https://localhost:8080/"
        },
        "id": "kOIavs2K_Sr8",
        "outputId": "2d51e194-4890-4a19-e6a8-4d31fabd760b"
      },
      "execution_count": null,
      "outputs": [
        {
          "output_type": "stream",
          "name": "stdout",
          "text": [
            "313/313 [==============================] - 1s 2ms/step - loss: 0.0897 - accuracy: 0.9738\n",
            "Test accuracy: 97.38%\n"
          ]
        }
      ]
    }
  ]
}