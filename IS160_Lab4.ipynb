{
  "nbformat": 4,
  "nbformat_minor": 0,
  "metadata": {
    "colab": {
      "provenance": [],
      "include_colab_link": true
    },
    "kernelspec": {
      "name": "python3",
      "display_name": "Python 3"
    },
    "language_info": {
      "name": "python"
    }
  },
  "cells": [
    {
      "cell_type": "markdown",
      "metadata": {
        "id": "view-in-github",
        "colab_type": "text"
      },
      "source": [
        "<a href=\"https://colab.research.google.com/github/robertdc2/IS-160-AI-In-Business/blob/Lab-4-DL-Exploration/IS160_Lab4.ipynb\" target=\"_parent\"><img src=\"https://colab.research.google.com/assets/colab-badge.svg\" alt=\"Open In Colab\"/></a>"
      ]
    },
    {
      "cell_type": "markdown",
      "source": [
        "Robert Sanchez\n",
        "Joseph Delgadillo\n",
        "Jugraj Dulay"
      ],
      "metadata": {
        "id": "a_qhfQd01Gd_"
      }
    },
    {
      "cell_type": "markdown",
      "source": [
        "IMDB dataset Example"
      ],
      "metadata": {
        "id": "IGPnM4fWp8gw"
      }
    },
    {
      "cell_type": "markdown",
      "source": [
        "3.1 Loading the IMDB dataset"
      ],
      "metadata": {
        "id": "xBBkCz33sEEX"
      }
    },
    {
      "cell_type": "code",
      "execution_count": null,
      "metadata": {
        "id": "G1xRLvm1o9V9",
        "colab": {
          "base_uri": "https://localhost:8080/"
        },
        "outputId": "4f00888d-b461-45e5-880f-a1975c0e4889"
      },
      "outputs": [
        {
          "output_type": "stream",
          "name": "stdout",
          "text": [
            "Downloading data from https://storage.googleapis.com/tensorflow/tf-keras-datasets/imdb.npz\n",
            "17464789/17464789 [==============================] - 0s 0us/step\n"
          ]
        }
      ],
      "source": [
        "from keras.datasets import imdb  #import IMDB dataset from Keras\n",
        "(train_data, train_labels), (test_data, test_labels) = imdb.load_data(num_words=10000) #will only load the top 10,000 most frequently occuring words in the trainign data"
      ]
    },
    {
      "cell_type": "code",
      "source": [
        "train_data[0]\n",
        "[1, 14, 22, 16, ..., 178, 32]\n",
        "train_labels[0]          #train_labels and test_labels are lists of 0s and 1s, 0 stands for negative and 1 stands for positive\n",
        "1\n",
        "max([max(sequence)for sequence in train_data]) #restricting ourselves to the top 10,000 most frequent words, no word index will exceed 10,000\n",
        "9999"
      ],
      "metadata": {
        "colab": {
          "base_uri": "https://localhost:8080/"
        },
        "id": "FFO2aQBgqhJr",
        "outputId": "b76f137c-d0f1-4eb6-8578-a621938e815c"
      },
      "execution_count": null,
      "outputs": [
        {
          "output_type": "execute_result",
          "data": {
            "text/plain": [
              "9999"
            ]
          },
          "metadata": {},
          "execution_count": 2
        }
      ]
    },
    {
      "cell_type": "code",
      "source": [
        "word_index = imdb.get_word_index() #word_index is a dictionary mapping words to an integer index\n",
        "reverse_word_index = dict(\n",
        "    [(value, key) for (key, value) in word_index.items()]) #reverses it, mapping integrer indices to words\n",
        "decoded_review = ' '.join (\n",
        "    [reverse_word_index.get(i - 3, '?') for i in train_data [0]]) #decodes the review\n"
      ],
      "metadata": {
        "colab": {
          "base_uri": "https://localhost:8080/"
        },
        "id": "5GRjQEZLq7nb",
        "outputId": "4c4cfcc5-20a6-48a1-b6c0-7b9e0af0f3f8"
      },
      "execution_count": null,
      "outputs": [
        {
          "output_type": "stream",
          "name": "stdout",
          "text": [
            "Downloading data from https://storage.googleapis.com/tensorflow/tf-keras-datasets/imdb_word_index.json\n",
            "1641221/1641221 [==============================] - 0s 0us/step\n"
          ]
        }
      ]
    },
    {
      "cell_type": "markdown",
      "source": [
        "3.2 Encoding the integer sequences into a binary matrix"
      ],
      "metadata": {
        "id": "Nu2CvI_isJR0"
      }
    },
    {
      "cell_type": "code",
      "source": [
        "import numpy as np\n",
        "def vectorize_sequences(sequences, dimension=10000) :\n",
        "    results = np.zeros ((len(sequences), dimension)) #Creates an all-zero matrix of shape (len(sequences),dimension)\n",
        "    for i, sequence in enumerate (sequences) :\n",
        "        results[i, sequence] = 1. #Sets specific indices of results [i] to 1s\n",
        "    return results\n",
        "x_train = vectorize_sequences(train_data) #vectorized training data\n",
        "x_test = vectorize_sequences(test_data) #Vectorized test data\n"
      ],
      "metadata": {
        "id": "6yqvU1qysPYe"
      },
      "execution_count": null,
      "outputs": []
    },
    {
      "cell_type": "code",
      "source": [
        "x_train[0]\n",
        "([ 0., 1., 1., ..., 0., 0., 0.])\n",
        "\n",
        "y_train = np.asarray(train_labels) .astype('float32') #labels vectorized\n",
        "y_test = np.asarray(test_labels) .astype('float32') #data is ready to be fed into a neural network"
      ],
      "metadata": {
        "id": "kzbB4SjItNus"
      },
      "execution_count": null,
      "outputs": []
    },
    {
      "cell_type": "markdown",
      "source": [
        "3.3 The model definition"
      ],
      "metadata": {
        "id": "E-hwXfnLvfhy"
      }
    },
    {
      "cell_type": "code",
      "source": [
        "from keras import models\n",
        "from keras import layers\n",
        "\n",
        "model = models.Sequential()\n",
        "model.add(layers.Dense(16, activation='relu', input_shape=(10000,))) #implement the relu activation function\n",
        "model.add(layers.Dense(16, activation='relu'))\n",
        "model.add(layers.Dense(1, activation='sigmoid'))\n",
        "model.compile(optimizer='rmsprop',\n",
        "              loss='binary_crossentropy',\n",
        "              metrics=['accuracy'])\n",
        "\n",
        "model.fit(x_train, y_train, epochs=4, batch_size=512)\n",
        "\n",
        "results = model.evaluate (x_test, y_test)"
      ],
      "metadata": {
        "id": "MPfKKZ5tvd9-",
        "colab": {
          "base_uri": "https://localhost:8080/"
        },
        "outputId": "b33b9544-0334-4a69-f5fd-190f45378cdb"
      },
      "execution_count": null,
      "outputs": [
        {
          "output_type": "stream",
          "name": "stdout",
          "text": [
            "Epoch 1/4\n",
            "49/49 [==============================] - 1s 12ms/step - loss: 0.4786 - accuracy: 0.8065\n",
            "Epoch 2/4\n",
            "49/49 [==============================] - 1s 12ms/step - loss: 0.2780 - accuracy: 0.9036\n",
            "Epoch 3/4\n",
            "49/49 [==============================] - 1s 11ms/step - loss: 0.2186 - accuracy: 0.9212\n",
            "Epoch 4/4\n",
            "49/49 [==============================] - 1s 11ms/step - loss: 0.1866 - accuracy: 0.9334\n",
            "782/782 [==============================] - 1s 1ms/step - loss: 0.2990 - accuracy: 0.8806\n"
          ]
        }
      ]
    },
    {
      "cell_type": "markdown",
      "source": [
        "3.4 Compiling the model"
      ],
      "metadata": {
        "id": "tQKlP8UbwV7t"
      }
    },
    {
      "cell_type": "code",
      "source": [
        "model.compile(optimizer='rmsprop',  # choose a loss function and optimizer\n",
        "              loss='binary_crossentropy' , #use crossentropy function when dealing with models that output probabilities\n",
        "              metrics=['accuracy'])"
      ],
      "metadata": {
        "id": "bKXMF60dwZqy"
      },
      "execution_count": null,
      "outputs": []
    },
    {
      "cell_type": "markdown",
      "source": [
        "3.5 Configuring the optimizer"
      ],
      "metadata": {
        "id": "k2Sx3N3lxMQq"
      }
    },
    {
      "cell_type": "code",
      "source": [
        "from keras import optimizers          #configure the model with the rmsprop optimizer and the binary_crossentropy loss function\n",
        "\n",
        "model.compile(optimizer=optimizers.RMSprop(lr=0.001),\n",
        "              loss='binary_crossentropy',\n",
        "              metrics=['accuracy'])"
      ],
      "metadata": {
        "id": "pfOZ4awMxTzD",
        "colab": {
          "base_uri": "https://localhost:8080/"
        },
        "outputId": "443aab08-19d7-48a4-b89f-bd6514956d3b"
      },
      "execution_count": null,
      "outputs": [
        {
          "output_type": "stream",
          "name": "stderr",
          "text": [
            "WARNING:absl:`lr` is deprecated in Keras optimizer, please use `learning_rate` or use the legacy optimizer, e.g.,tf.keras.optimizers.legacy.RMSprop.\n"
          ]
        }
      ]
    },
    {
      "cell_type": "markdown",
      "source": [
        "3.6 Using custom losses and metrics"
      ],
      "metadata": {
        "id": "9QG-loykyBw8"
      }
    },
    {
      "cell_type": "code",
      "source": [
        "from keras import losses   #passing the optimizer class instance as the optimizer argument\n",
        "from keras import metrics\n",
        "\n",
        "model.compile(optimizer=optimizers.RMSprop(lr=0.001),\n",
        "              loss=losses.binary_crossentropy,\n",
        "              metrics=[metrics.binary_accuracy])"
      ],
      "metadata": {
        "id": "wcCoQ-0byFti",
        "colab": {
          "base_uri": "https://localhost:8080/"
        },
        "outputId": "8e2cb32a-b94a-4159-9ddf-0bf65c233df5"
      },
      "execution_count": null,
      "outputs": [
        {
          "output_type": "stream",
          "name": "stderr",
          "text": [
            "WARNING:absl:`lr` is deprecated in Keras optimizer, please use `learning_rate` or use the legacy optimizer, e.g.,tf.keras.optimizers.legacy.RMSprop.\n"
          ]
        }
      ]
    },
    {
      "cell_type": "markdown",
      "source": [
        "3.7 Setting aside a validation set"
      ],
      "metadata": {
        "id": "VhCzWCvo5xp1"
      }
    },
    {
      "cell_type": "code",
      "source": [
        "x_val = x_train[:10000]    #create a validation set by setting apart 10,000 samples from the original data\n",
        "partial_x_train = x_train[10000:]\n",
        "y_val = y_train[:10000]\n",
        "partial_y_train = y_train[10000:]"
      ],
      "metadata": {
        "id": "VA-kzBan50qk"
      },
      "execution_count": null,
      "outputs": []
    },
    {
      "cell_type": "markdown",
      "source": [
        "3.8 Training your model"
      ],
      "metadata": {
        "id": "OPgNSkWv6DOY"
      }
    },
    {
      "cell_type": "code",
      "source": [
        "model.compile(optimizer='rmsprop', #train the model for 20 epochs in mini batches of 512 samples\n",
        "              loss='binary_crossentropy',\n",
        "              metrics=['acc'])\n",
        "history = model.fit(partial_x_train, #20 iterations over all samples in the x_train and y_train tensors\n",
        "                    partial_y_train,\n",
        "                    epochs=20,\n",
        "                    batch_size=512,\n",
        "                    validation_data=(x_val, y_val)) #passing the validation data as the validation_data argument"
      ],
      "metadata": {
        "colab": {
          "base_uri": "https://localhost:8080/"
        },
        "id": "TfymPqHc6CW8",
        "outputId": "4b28fb51-8c8b-4b27-8007-64cefbc98dc7"
      },
      "execution_count": null,
      "outputs": [
        {
          "output_type": "stream",
          "name": "stdout",
          "text": [
            "Epoch 1/20\n",
            "30/30 [==============================] - 1s 36ms/step - loss: 0.1654 - acc: 0.9408 - val_loss: 0.1611 - val_acc: 0.9437\n",
            "Epoch 2/20\n",
            "30/30 [==============================] - 1s 17ms/step - loss: 0.1380 - acc: 0.9529 - val_loss: 0.1787 - val_acc: 0.9324\n",
            "Epoch 3/20\n",
            "30/30 [==============================] - 1s 19ms/step - loss: 0.1194 - acc: 0.9622 - val_loss: 0.1946 - val_acc: 0.9241\n",
            "Epoch 4/20\n",
            "30/30 [==============================] - 1s 27ms/step - loss: 0.1005 - acc: 0.9702 - val_loss: 0.1950 - val_acc: 0.9269\n",
            "Epoch 5/20\n",
            "30/30 [==============================] - 1s 29ms/step - loss: 0.0930 - acc: 0.9721 - val_loss: 0.2101 - val_acc: 0.9207\n",
            "Epoch 6/20\n",
            "30/30 [==============================] - 1s 18ms/step - loss: 0.0784 - acc: 0.9783 - val_loss: 0.2375 - val_acc: 0.9127\n",
            "Epoch 7/20\n",
            "30/30 [==============================] - 1s 17ms/step - loss: 0.0686 - acc: 0.9820 - val_loss: 0.2394 - val_acc: 0.9143\n",
            "Epoch 8/20\n",
            "30/30 [==============================] - 1s 17ms/step - loss: 0.0587 - acc: 0.9858 - val_loss: 0.2681 - val_acc: 0.9083\n",
            "Epoch 9/20\n",
            "30/30 [==============================] - 0s 16ms/step - loss: 0.0523 - acc: 0.9871 - val_loss: 0.2789 - val_acc: 0.9077\n",
            "Epoch 10/20\n",
            "30/30 [==============================] - 0s 17ms/step - loss: 0.0427 - acc: 0.9911 - val_loss: 0.2916 - val_acc: 0.9059\n",
            "Epoch 11/20\n",
            "30/30 [==============================] - 0s 16ms/step - loss: 0.0381 - acc: 0.9920 - val_loss: 0.3137 - val_acc: 0.9018\n",
            "Epoch 12/20\n",
            "30/30 [==============================] - 0s 16ms/step - loss: 0.0303 - acc: 0.9949 - val_loss: 0.3290 - val_acc: 0.9023\n",
            "Epoch 13/20\n",
            "30/30 [==============================] - 0s 16ms/step - loss: 0.0258 - acc: 0.9967 - val_loss: 0.3498 - val_acc: 0.9000\n",
            "Epoch 14/20\n",
            "30/30 [==============================] - 1s 17ms/step - loss: 0.0236 - acc: 0.9963 - val_loss: 0.3709 - val_acc: 0.8983\n",
            "Epoch 15/20\n",
            "30/30 [==============================] - 0s 16ms/step - loss: 0.0215 - acc: 0.9959 - val_loss: 0.3898 - val_acc: 0.8970\n",
            "Epoch 16/20\n",
            "30/30 [==============================] - 0s 16ms/step - loss: 0.0226 - acc: 0.9941 - val_loss: 0.4060 - val_acc: 0.8954\n",
            "Epoch 17/20\n",
            "30/30 [==============================] - 0s 16ms/step - loss: 0.0106 - acc: 0.9995 - val_loss: 0.4186 - val_acc: 0.8944\n",
            "Epoch 18/20\n",
            "30/30 [==============================] - 1s 17ms/step - loss: 0.0142 - acc: 0.9978 - val_loss: 0.4373 - val_acc: 0.8926\n",
            "Epoch 19/20\n",
            "30/30 [==============================] - 0s 16ms/step - loss: 0.0082 - acc: 0.9997 - val_loss: 0.5005 - val_acc: 0.8822\n",
            "Epoch 20/20\n",
            "30/30 [==============================] - 0s 16ms/step - loss: 0.0127 - acc: 0.9981 - val_loss: 0.4756 - val_acc: 0.8928\n"
          ]
        }
      ]
    },
    {
      "cell_type": "markdown",
      "source": [
        "3.9 plotting the training and validation loss"
      ],
      "metadata": {
        "id": "pVEcKmHf66Fr"
      }
    },
    {
      "cell_type": "code",
      "source": [
        "import matplotlib.pyplot as plt #use Matplotlib to plot the training and validation loss side by side\n",
        "\n",
        "history_dict = history.history\n",
        "loss_values = history_dict['loss']\n",
        "val_loss_values = history_dict['val_loss']\n",
        "\n",
        "epochs = range(1, len(loss_values) + 1)\n",
        "\n",
        "plt.plot(epochs, loss_values, 'bo', label='Training loss')  #\"bo\" is for \"blue dot\"\n",
        "plt.plot(epochs, val_loss_values, 'b', label='Validation loss') # \"b\" is for solid blue line\n",
        "plt.title('Training and validation loss')\n",
        "plt.xlabel('Epochs')\n",
        "plt.ylabel('Loss')\n",
        "plt.legend()\n",
        "\n",
        "plt.show()"
      ],
      "metadata": {
        "colab": {
          "base_uri": "https://localhost:8080/",
          "height": 472
        },
        "id": "8JFIuW7a6_as",
        "outputId": "f44e3904-be15-4164-cb40-bb5fed5ae371"
      },
      "execution_count": null,
      "outputs": [
        {
          "output_type": "display_data",
          "data": {
            "text/plain": [
              "<Figure size 640x480 with 1 Axes>"
            ],
            "image/png": "[encoded data removed]"
          },
          "metadata": {}
        }
      ]
    },
    {
      "cell_type": "markdown",
      "source": [
        "3.10 Plotting the training and validation accuracy"
      ],
      "metadata": {
        "id": "NO8JaBRd8RQD"
      }
    },
    {
      "cell_type": "code",
      "source": [
        "plt.clf()    #clears the figure\n",
        "acc= history_dict['acc']\n",
        "val_acc = history_dict['val_acc']\n",
        "plt.plot(epochs, acc, 'bo', label='Training acc')\n",
        "plt.plot(epochs, val_acc, 'b', label='Validation acc')\n",
        "plt.title('Training and validation accuracy')   #training and validation accuracy gets plotted\n",
        "plt.xlabel('Epochs')\n",
        "plt.ylabel('Accuracy')\n",
        "plt.legend()\n",
        "\n",
        "plt.show()"
      ],
      "metadata": {
        "colab": {
          "base_uri": "https://localhost:8080/",
          "height": 472
        },
        "id": "A50--cjX8NSo",
        "outputId": "271f5a91-3738-40f4-9d4c-106893ea41b7"
      },
      "execution_count": null,
      "outputs": [
        {
          "output_type": "display_data",
          "data": {
            "text/plain": [
              "<Figure size 640x480 with 1 Axes>"
            ],
            "image/png": "[encoded data removed]"
          },
          "metadata": {}
        }
      ]
    },
    {
      "cell_type": "markdown",
      "source": [
        "3.11 Retraining a model from scratch"
      ],
      "metadata": {
        "id": "x6Q0OGXb-7Gv"
      }
    },
    {
      "cell_type": "code",
      "source": [
        "model = models.Sequential()       #a new network is now trained from scratch fo four epochs and then evaluate it on the test data\n",
        "model.add(layers.Dense(16, activation='relu', input_shape=(10000,)))\n",
        "model.add(layers.Dense(16, activation='relu'))\n",
        "model.add(layers.Dense(1, activation='sigmoid'))\n",
        "\n",
        "model.compile(optimizer='rmsprop',\n",
        "              loss='binary_crossentropy',\n",
        "              metrics=['accuracy'])\n",
        "\n",
        "model.fit(x_train, y_train, epochs=4, batch_size=512)\n",
        "results = model.evaluate(x_test, y_test)       #the model receives an accuracy of 93%"
      ],
      "metadata": {
        "colab": {
          "base_uri": "https://localhost:8080/"
        },
        "id": "YSaBwFgf_DZA",
        "outputId": "36a84ab2-c25a-48a6-d30f-9dc4ad7dbb15"
      },
      "execution_count": null,
      "outputs": [
        {
          "output_type": "stream",
          "name": "stdout",
          "text": [
            "Epoch 1/4\n",
            "49/49 [==============================] - 1s 12ms/step - loss: 0.4778 - accuracy: 0.8071\n",
            "Epoch 2/4\n",
            "49/49 [==============================] - 1s 11ms/step - loss: 0.2799 - accuracy: 0.9035\n",
            "Epoch 3/4\n",
            "49/49 [==============================] - 1s 12ms/step - loss: 0.2193 - accuracy: 0.9209\n",
            "Epoch 4/4\n",
            "49/49 [==============================] - 1s 12ms/step - loss: 0.1864 - accuracy: 0.9340\n"
          ]
        }
      ]
    },
    {
      "cell_type": "code",
      "source": [],
      "metadata": {
        "id": "HacUPRfPFpa6"
      },
      "execution_count": null,
      "outputs": []
    },
    {
      "cell_type": "markdown",
      "source": [
        "First Kaggle Dataset\n",
        "`"
      ],
      "metadata": {
        "id": "bNiYyCPTvlEo"
      }
    },
    {
      "cell_type": "code",
      "source": [
        "!pip install tensorflow\n",
        "\n",
        "import pandas as pd\n",
        "import numpy as np\n",
        "import tensorflow as tf\n",
        "from tensorflow import keras\n",
        "from sklearn.model_selection import train_test_split\n",
        "\n",
        "#Import libraries and install tensorflow"
      ],
      "metadata": {
        "id": "6tmwpyfJvqFZ",
        "colab": {
          "base_uri": "https://localhost:8080/"
        },
        "outputId": "c76e3f72-4ffc-4012-ed91-9826645fee49"
      },
      "execution_count": null,
      "outputs": [
        {
          "output_type": "stream",
          "name": "stdout",
          "text": [
            "Requirement already satisfied: tensorflow in /usr/local/lib/python3.10/dist-packages (2.13.0)\n",
            "Requirement already satisfied: absl-py>=1.0.0 in /usr/local/lib/python3.10/dist-packages (from tensorflow) (1.4.0)\n",
            "Requirement already satisfied: astunparse>=1.6.0 in /usr/local/lib/python3.10/dist-packages (from tensorflow) (1.6.3)\n",
            "Requirement already satisfied: flatbuffers>=23.1.21 in /usr/local/lib/python3.10/dist-packages (from tensorflow) (23.5.26)\n",
            "Requirement already satisfied: gast<=0.4.0,>=0.2.1 in /usr/local/lib/python3.10/dist-packages (from tensorflow) (0.4.0)\n",
            "Requirement already satisfied: google-pasta>=0.1.1 in /usr/local/lib/python3.10/dist-packages (from tensorflow) (0.2.0)\n",
            "Requirement already satisfied: grpcio<2.0,>=1.24.3 in /usr/local/lib/python3.10/dist-packages (from tensorflow) (1.57.0)\n",
            "Requirement already satisfied: h5py>=2.9.0 in /usr/local/lib/python3.10/dist-packages (from tensorflow) (3.9.0)\n",
            "Requirement already satisfied: keras<2.14,>=2.13.1 in /usr/local/lib/python3.10/dist-packages (from tensorflow) (2.13.1)\n",
            "Requirement already satisfied: libclang>=13.0.0 in /usr/local/lib/python3.10/dist-packages (from tensorflow) (16.0.6)\n",
            "Requirement already satisfied: numpy<=1.24.3,>=1.22 in /usr/local/lib/python3.10/dist-packages (from tensorflow) (1.23.5)\n",
            "Requirement already satisfied: opt-einsum>=2.3.2 in /usr/local/lib/python3.10/dist-packages (from tensorflow) (3.3.0)\n",
            "Requirement already satisfied: packaging in /usr/local/lib/python3.10/dist-packages (from tensorflow) (23.1)\n",
            "Requirement already satisfied: protobuf!=4.21.0,!=4.21.1,!=4.21.2,!=4.21.3,!=4.21.4,!=4.21.5,<5.0.0dev,>=3.20.3 in /usr/local/lib/python3.10/dist-packages (from tensorflow) (3.20.3)\n",
            "Requirement already satisfied: setuptools in /usr/local/lib/python3.10/dist-packages (from tensorflow) (67.7.2)\n",
            "Requirement already satisfied: six>=1.12.0 in /usr/local/lib/python3.10/dist-packages (from tensorflow) (1.16.0)\n",
            "Requirement already satisfied: tensorboard<2.14,>=2.13 in /usr/local/lib/python3.10/dist-packages (from tensorflow) (2.13.0)\n",
            "Requirement already satisfied: tensorflow-estimator<2.14,>=2.13.0 in /usr/local/lib/python3.10/dist-packages (from tensorflow) (2.13.0)\n",
            "Requirement already satisfied: termcolor>=1.1.0 in /usr/local/lib/python3.10/dist-packages (from tensorflow) (2.3.0)\n",
            "Requirement already satisfied: typing-extensions<4.6.0,>=3.6.6 in /usr/local/lib/python3.10/dist-packages (from tensorflow) (4.5.0)\n",
            "Requirement already satisfied: wrapt>=1.11.0 in /usr/local/lib/python3.10/dist-packages (from tensorflow) (1.15.0)\n",
            "Requirement already satisfied: tensorflow-io-gcs-filesystem>=0.23.1 in /usr/local/lib/python3.10/dist-packages (from tensorflow) (0.33.0)\n",
            "Requirement already satisfied: wheel<1.0,>=0.23.0 in /usr/local/lib/python3.10/dist-packages (from astunparse>=1.6.0->tensorflow) (0.41.2)\n",
            "Requirement already satisfied: google-auth<3,>=1.6.3 in /usr/local/lib/python3.10/dist-packages (from tensorboard<2.14,>=2.13->tensorflow) (2.17.3)\n",
            "Requirement already satisfied: google-auth-oauthlib<1.1,>=0.5 in /usr/local/lib/python3.10/dist-packages (from tensorboard<2.14,>=2.13->tensorflow) (1.0.0)\n",
            "Requirement already satisfied: markdown>=2.6.8 in /usr/local/lib/python3.10/dist-packages (from tensorboard<2.14,>=2.13->tensorflow) (3.4.4)\n",
            "Requirement already satisfied: requests<3,>=2.21.0 in /usr/local/lib/python3.10/dist-packages (from tensorboard<2.14,>=2.13->tensorflow) (2.31.0)\n",
            "Requirement already satisfied: tensorboard-data-server<0.8.0,>=0.7.0 in /usr/local/lib/python3.10/dist-packages (from tensorboard<2.14,>=2.13->tensorflow) (0.7.1)\n",
            "Requirement already satisfied: werkzeug>=1.0.1 in /usr/local/lib/python3.10/dist-packages (from tensorboard<2.14,>=2.13->tensorflow) (2.3.7)\n",
            "Requirement already satisfied: cachetools<6.0,>=2.0.0 in /usr/local/lib/python3.10/dist-packages (from google-auth<3,>=1.6.3->tensorboard<2.14,>=2.13->tensorflow) (5.3.1)\n",
            "Requirement already satisfied: pyasn1-modules>=0.2.1 in /usr/local/lib/python3.10/dist-packages (from google-auth<3,>=1.6.3->tensorboard<2.14,>=2.13->tensorflow) (0.3.0)\n",
            "Requirement already satisfied: rsa<5,>=3.1.4 in /usr/local/lib/python3.10/dist-packages (from google-auth<3,>=1.6.3->tensorboard<2.14,>=2.13->tensorflow) (4.9)\n",
            "Requirement already satisfied: requests-oauthlib>=0.7.0 in /usr/local/lib/python3.10/dist-packages (from google-auth-oauthlib<1.1,>=0.5->tensorboard<2.14,>=2.13->tensorflow) (1.3.1)\n",
            "Requirement already satisfied: charset-normalizer<4,>=2 in /usr/local/lib/python3.10/dist-packages (from requests<3,>=2.21.0->tensorboard<2.14,>=2.13->tensorflow) (3.2.0)\n",
            "Requirement already satisfied: idna<4,>=2.5 in /usr/local/lib/python3.10/dist-packages (from requests<3,>=2.21.0->tensorboard<2.14,>=2.13->tensorflow) (3.4)\n",
            "Requirement already satisfied: urllib3<3,>=1.21.1 in /usr/local/lib/python3.10/dist-packages (from requests<3,>=2.21.0->tensorboard<2.14,>=2.13->tensorflow) (2.0.4)\n",
            "Requirement already satisfied: certifi>=2017.4.17 in /usr/local/lib/python3.10/dist-packages (from requests<3,>=2.21.0->tensorboard<2.14,>=2.13->tensorflow) (2023.7.22)\n",
            "Requirement already satisfied: MarkupSafe>=2.1.1 in /usr/local/lib/python3.10/dist-packages (from werkzeug>=1.0.1->tensorboard<2.14,>=2.13->tensorflow) (2.1.3)\n",
            "Requirement already satisfied: pyasn1<0.6.0,>=0.4.6 in /usr/local/lib/python3.10/dist-packages (from pyasn1-modules>=0.2.1->google-auth<3,>=1.6.3->tensorboard<2.14,>=2.13->tensorflow) (0.5.0)\n",
            "Requirement already satisfied: oauthlib>=3.0.0 in /usr/local/lib/python3.10/dist-packages (from requests-oauthlib>=0.7.0->google-auth-oauthlib<1.1,>=0.5->tensorboard<2.14,>=2.13->tensorflow) (3.2.2)\n"
          ]
        }
      ]
    },
    {
      "cell_type": "code",
      "source": [
        "#load CSV data\n",
        "df = pd.read_csv('Reviews2.csv')\n",
        "\n",
        "#Extract feathures and target labels\n",
        "target_column = 'buy'\n",
        "x = df.drop('buy', axis=1)\n",
        "y = df['buy']\n",
        "\n",
        "#Split data for training and testing\n",
        "\n",
        "X_train, X_test, _train, y_test = train_test_split(x, y, test_size=0.2, random_state=42)"
      ],
      "metadata": {
        "id": "N7jzNfk7xv5J"
      },
      "execution_count": null,
      "outputs": []
    },
    {
      "cell_type": "code",
      "source": [
        "# Assuming \"buy\" is your target variable\n",
        "df['buy'] = df['buy'].map({'Yes': 1, 'No': 0})  # Map non-numeric values to 0 and 1\n"
      ],
      "metadata": {
        "id": "v1NKYxQCDdAm"
      },
      "execution_count": null,
      "outputs": []
    },
    {
      "cell_type": "markdown",
      "source": [
        "In this dataset, we chose the data product reviews. Since it was long data, we did decrease its size and made it so that it can be used with deep learning. In order to make it even better, we added, the column buy, so that whenever the product score was 4 or 5,  it say yes buy again"
      ],
      "metadata": {
        "id": "PJs9DFbdFk-L"
      }
    },
    {
      "cell_type": "code",
      "source": [
        "#Add layers and use Sequential\n",
        "\n",
        "model = keras.Sequential()\n",
        "\n",
        "# Add an input layer (assuming your input features have 4 dimensions)\n",
        "model.add(keras.layers.Input(shape=(4,)))\n",
        "\n",
        "# Add one or more hidden layers\n",
        "model.add(keras.layers.Dense(64, activation='relu'))\n",
        "model.add(keras.layers.Dense(32, activation='relu'))\n",
        "\n",
        "# Add an output layer (assuming you have a binary classification task)\n",
        "model.add(keras.layers.Dense(1, activation='sigmoid'))\n",
        "\n",
        "\n"
      ],
      "metadata": {
        "id": "0rXmeY0nypz8"
      },
      "execution_count": null,
      "outputs": []
    },
    {
      "cell_type": "code",
      "source": [
        "# loss function and optimizer\n",
        "\n",
        "model.compile(optimizer='adam', loss='binary_crossentropy', metrics=['accuracy'])\n"
      ],
      "metadata": {
        "id": "e_J_yftQyzXf"
      },
      "execution_count": null,
      "outputs": []
    },
    {
      "cell_type": "code",
      "source": [
        "#train model\n",
        "\n",
        "# Specify the number of training epochs and batch size\n",
        "epochs = 10\n",
        "batch_size = 32\n",
        "\n",
        "# Train the model\n",
        "model.fit(X_train, y_train, epochs=epochs, batch_size=batch_size, validation_data=(X_test, y_test))\n"
      ],
      "metadata": {
        "id": "zvhhn6EFzd-Y",
        "colab": {
          "base_uri": "https://localhost:8080/"
        },
        "outputId": "65dffb9f-ceac-42f6-c5e0-c903f256fccf"
      },
      "execution_count": null,
      "outputs": [
        {
          "output_type": "stream",
          "name": "stdout",
          "text": [
            "Epoch 1/10\n",
            "3/3 [==============================] - 1s 67ms/step - loss: 1.3190 - accuracy: 0.0127 - val_loss: 0.8812 - val_accuracy: 0.7000\n",
            "Epoch 2/10\n",
            "3/3 [==============================] - 0s 13ms/step - loss: -10.8018 - accuracy: 0.0380 - val_loss: 1.7589 - val_accuracy: 0.7000\n",
            "Epoch 3/10\n",
            "3/3 [==============================] - 0s 12ms/step - loss: -22.3666 - accuracy: 0.0380 - val_loss: 2.7468 - val_accuracy: 0.7000\n",
            "Epoch 4/10\n",
            "3/3 [==============================] - 0s 13ms/step - loss: -33.5712 - accuracy: 0.0380 - val_loss: 3.7601 - val_accuracy: 0.7000\n",
            "Epoch 5/10\n",
            "3/3 [==============================] - 0s 14ms/step - loss: -45.2048 - accuracy: 0.0380 - val_loss: 4.7213 - val_accuracy: 0.7000\n",
            "Epoch 6/10\n",
            "3/3 [==============================] - 0s 13ms/step - loss: -57.0097 - accuracy: 0.0380 - val_loss: 5.7048 - val_accuracy: 0.7000\n",
            "Epoch 7/10\n",
            "3/3 [==============================] - 0s 15ms/step - loss: -68.6919 - accuracy: 0.0380 - val_loss: 6.7540 - val_accuracy: 0.7000\n",
            "Epoch 8/10\n",
            "3/3 [==============================] - 0s 13ms/step - loss: -80.5504 - accuracy: 0.0380 - val_loss: 7.8486 - val_accuracy: 0.7000\n",
            "Epoch 9/10\n",
            "3/3 [==============================] - 0s 14ms/step - loss: -92.6078 - accuracy: 0.0380 - val_loss: 8.9909 - val_accuracy: 0.7000\n",
            "Epoch 10/10\n",
            "3/3 [==============================] - 0s 14ms/step - loss: -106.4160 - accuracy: 0.0380 - val_loss: 10.1717 - val_accuracy: 0.7000\n"
          ]
        },
        {
          "output_type": "execute_result",
          "data": {
            "text/plain": [
              "<keras.src.callbacks.History at 0x7e9baa651db0>"
            ]
          },
          "metadata": {},
          "execution_count": 61
        }
      ]
    },
    {
      "cell_type": "code",
      "source": [
        "#evaluate model\n",
        "\n",
        "# Evaluate the model on the test data\n",
        "test_loss, test_accuracy = model.evaluate(X_test, y_test)\n",
        "print(f'Test Loss: {test_loss}')\n",
        "print(f'Test Accuracy: {test_accuracy}')\n"
      ],
      "metadata": {
        "id": "RK9YsvEYzodh",
        "colab": {
          "base_uri": "https://localhost:8080/"
        },
        "outputId": "d16f07fe-70ff-4086-ee5d-2272d559e449"
      },
      "execution_count": null,
      "outputs": [
        {
          "output_type": "stream",
          "name": "stdout",
          "text": [
            "1/1 [==============================] - 0s 19ms/step - loss: 12.8615 - accuracy: 0.7000\n",
            "Test Loss: 12.8614501953125\n",
            "Test Accuracy: 0.699999988079071\n"
          ]
        }
      ]
    },
    {
      "cell_type": "code",
      "source": [],
      "metadata": {
        "id": "daFiNPvwHWf8"
      },
      "execution_count": null,
      "outputs": []
    },
    {
      "cell_type": "code",
      "source": [
        "#Import model form keras\n",
        "from keras import models\n",
        "from keras import layers\n",
        "\n",
        "model = models.Sequential()\n",
        "model.add(layers.Dense(16, activation='relu', input_shape=(4,))) #implement the relu activation function\n",
        "model.add(layers.Dense(16, activation='relu'))\n",
        "model.add(layers.Dense(1, activation='sigmoid'))\n",
        "model.compile(optimizer='rmsprop',\n",
        "              loss='binary_crossentropy',\n",
        "              metrics=['accuracy'])\n",
        "\n",
        "model.fit(X_train, y_train, epochs=4, batch_size=512)\n",
        "\n",
        "results = model.evaluate (X_test, y_test)"
      ],
      "metadata": {
        "colab": {
          "base_uri": "https://localhost:8080/"
        },
        "outputId": "4d5d587f-5a89-4f63-df92-4bdf6e87e8ef",
        "id": "zUaKPpOoHWxT"
      },
      "execution_count": null,
      "outputs": [
        {
          "output_type": "stream",
          "name": "stdout",
          "text": [
            "Epoch 1/4\n",
            "1/1 [==============================] - 0s 403ms/step - loss: 25.4429 - accuracy: 0.0127\n",
            "Epoch 2/4\n",
            "1/1 [==============================] - 0s 7ms/step - loss: 18.0709 - accuracy: 0.0127\n",
            "Epoch 3/4\n",
            "1/1 [==============================] - 0s 7ms/step - loss: 12.7903 - accuracy: 0.0127\n",
            "Epoch 4/4\n",
            "1/1 [==============================] - 0s 7ms/step - loss: 8.4323 - accuracy: 0.0127\n",
            "1/1 [==============================] - 0s 100ms/step - loss: 1.1284 - accuracy: 0.6000\n"
          ]
        }
      ]
    },
    {
      "cell_type": "code",
      "source": [],
      "metadata": {
        "id": "usutMfgOHzqH"
      },
      "execution_count": null,
      "outputs": []
    },
    {
      "cell_type": "code",
      "source": [
        "model.compile(optimizer='rmsprop',  # choose a loss function and optimizer\n",
        "              loss='binary_crossentropy' , #use crossentropy function when dealing with models that output probabilities\n",
        "              metrics=['accuracy'])"
      ],
      "metadata": {
        "id": "Y66VWui4Hz7d"
      },
      "execution_count": null,
      "outputs": []
    },
    {
      "cell_type": "code",
      "source": [
        "from keras import optimizers          #configure the model with the rmsprop optimizer and the binary_crossentropy loss function\n",
        "\n",
        "model.compile(optimizer=optimizers.RMSprop(lr=0.001),\n",
        "              loss='binary_crossentropy',\n",
        "              metrics=['accuracy'])"
      ],
      "metadata": {
        "colab": {
          "base_uri": "https://localhost:8080/"
        },
        "id": "T3dBOROoH-Th",
        "outputId": "fc8e97a0-3050-44fb-d45b-0f6a55c6c20b"
      },
      "execution_count": null,
      "outputs": [
        {
          "output_type": "stream",
          "name": "stderr",
          "text": [
            "WARNING:absl:`lr` is deprecated in Keras optimizer, please use `learning_rate` or use the legacy optimizer, e.g.,tf.keras.optimizers.legacy.RMSprop.\n"
          ]
        }
      ]
    },
    {
      "cell_type": "code",
      "source": [
        "x_val = X_train[:4]    #create a validation set by setting apart 4 samples from the original data\n",
        "partial_X_train = X_train[4:]\n",
        "y_val = y_train[:4]\n",
        "partial_y_train = y_train[4:]"
      ],
      "metadata": {
        "id": "3abrDAOsIEjh"
      },
      "execution_count": null,
      "outputs": []
    },
    {
      "cell_type": "code",
      "source": [],
      "metadata": {
        "id": "rqW-BtzyIy-F"
      },
      "execution_count": null,
      "outputs": []
    },
    {
      "cell_type": "code",
      "source": [
        "model.compile(optimizer='rmsprop', #train the model for 20 epochs in mini batches of 512 samples\n",
        "              loss='binary_crossentropy',\n",
        "              metrics=['acc'])\n",
        "history = model.fit(partial_X_train, #20 iterations over all samples in the x_train and y_train tensors\n",
        "                    partial_y_train,\n",
        "                    epochs=20,\n",
        "                    batch_size=512,\n",
        "                    validation_data=(x_val, y_val)) #passing the validation data as the validation_data argument"
      ],
      "metadata": {
        "colab": {
          "base_uri": "https://localhost:8080/"
        },
        "outputId": "0fc6ad4b-bf16-4a3d-c101-e878d6487114",
        "id": "8CsFNkjCIzNg"
      },
      "execution_count": null,
      "outputs": [
        {
          "output_type": "stream",
          "name": "stdout",
          "text": [
            "Epoch 1/20\n",
            "1/1 [==============================] - 1s 569ms/step - loss: 4.6987 - acc: 0.0133 - val_loss: -2.0455 - val_acc: 0.0000e+00\n",
            "Epoch 2/20\n",
            "1/1 [==============================] - 0s 37ms/step - loss: -2.1008 - acc: 0.0267 - val_loss: -5.7303 - val_acc: 0.0000e+00\n",
            "Epoch 3/20\n",
            "1/1 [==============================] - 0s 34ms/step - loss: -6.3307 - acc: 0.0400 - val_loss: -8.2566 - val_acc: 0.0000e+00\n",
            "Epoch 4/20\n",
            "1/1 [==============================] - 0s 31ms/step - loss: -9.4135 - acc: 0.0400 - val_loss: -10.2923 - val_acc: 0.0000e+00\n",
            "Epoch 5/20\n",
            "1/1 [==============================] - 0s 52ms/step - loss: -11.8116 - acc: 0.0400 - val_loss: -12.1156 - val_acc: 0.0000e+00\n",
            "Epoch 6/20\n",
            "1/1 [==============================] - 0s 50ms/step - loss: -13.9701 - acc: 0.0400 - val_loss: -13.8321 - val_acc: 0.0000e+00\n",
            "Epoch 7/20\n",
            "1/1 [==============================] - 0s 30ms/step - loss: -16.0085 - acc: 0.0400 - val_loss: -15.4782 - val_acc: 0.0000e+00\n",
            "Epoch 8/20\n",
            "1/1 [==============================] - 0s 29ms/step - loss: -17.9658 - acc: 0.0400 - val_loss: -17.0726 - val_acc: 0.0000e+00\n",
            "Epoch 9/20\n",
            "1/1 [==============================] - 0s 31ms/step - loss: -19.8619 - acc: 0.0400 - val_loss: -18.6263 - val_acc: 0.0000e+00\n",
            "Epoch 10/20\n",
            "1/1 [==============================] - 0s 28ms/step - loss: -21.7091 - acc: 0.0400 - val_loss: -20.1482 - val_acc: 0.0000e+00\n",
            "Epoch 11/20\n",
            "1/1 [==============================] - 0s 50ms/step - loss: -23.5186 - acc: 0.0400 - val_loss: -21.6448 - val_acc: 0.0000e+00\n",
            "Epoch 12/20\n",
            "1/1 [==============================] - 0s 41ms/step - loss: -25.2981 - acc: 0.0400 - val_loss: -23.1201 - val_acc: 0.0000e+00\n",
            "Epoch 13/20\n",
            "1/1 [==============================] - 0s 42ms/step - loss: -27.0515 - acc: 0.0400 - val_loss: -24.5792 - val_acc: 0.0000e+00\n",
            "Epoch 14/20\n",
            "1/1 [==============================] - 0s 35ms/step - loss: -28.7861 - acc: 0.0400 - val_loss: -26.0253 - val_acc: 0.0000e+00\n",
            "Epoch 15/20\n",
            "1/1 [==============================] - 0s 46ms/step - loss: -30.5065 - acc: 0.0400 - val_loss: -27.4611 - val_acc: 0.0000e+00\n",
            "Epoch 16/20\n",
            "1/1 [==============================] - 0s 33ms/step - loss: -32.2141 - acc: 0.0400 - val_loss: -28.8887 - val_acc: 0.0000e+00\n",
            "Epoch 17/20\n",
            "1/1 [==============================] - 0s 31ms/step - loss: -33.9115 - acc: 0.0400 - val_loss: -30.3102 - val_acc: 0.0000e+00\n",
            "Epoch 18/20\n",
            "1/1 [==============================] - 0s 28ms/step - loss: -35.6016 - acc: 0.0400 - val_loss: -31.7278 - val_acc: 0.0000e+00\n",
            "Epoch 19/20\n",
            "1/1 [==============================] - 0s 33ms/step - loss: -37.2862 - acc: 0.0400 - val_loss: -33.1661 - val_acc: 0.0000e+00\n",
            "Epoch 20/20\n",
            "1/1 [==============================] - 0s 31ms/step - loss: -38.9668 - acc: 0.0400 - val_loss: -34.6029 - val_acc: 0.0000e+00\n"
          ]
        }
      ]
    },
    {
      "cell_type": "code",
      "source": [],
      "metadata": {
        "id": "E9Xm2ATYI-6F"
      },
      "execution_count": null,
      "outputs": []
    },
    {
      "cell_type": "code",
      "source": [
        "import matplotlib.pyplot as plt #use Matplotlib to plot the training and validation loss side by side\n",
        "\n",
        "history_dict = history.history\n",
        "loss_values = history_dict['loss']\n",
        "val_loss_values = history_dict['val_loss']\n",
        "\n",
        "epochs = range(1, len(loss_values) + 1)\n",
        "\n",
        "plt.plot(epochs, loss_values, 'bo', label='Training loss')  #\"bo\" is for \"blue dot\"\n",
        "plt.plot(epochs, val_loss_values, 'b', label='Validation loss') # \"b\" is for solid blue line\n",
        "plt.title('Training and validation loss')\n",
        "plt.xlabel('Epochs')\n",
        "plt.ylabel('Loss')\n",
        "plt.legend()\n",
        "\n",
        "plt.show()"
      ],
      "metadata": {
        "colab": {
          "base_uri": "https://localhost:8080/",
          "height": 472
        },
        "outputId": "43f8f2a7-e98c-4af0-95ad-a9fcf8873d8b",
        "id": "btSsBYEdI_LL"
      },
      "execution_count": null,
      "outputs": [
        {
          "output_type": "display_data",
          "data": {
            "text/plain": [
              "<Figure size 640x480 with 1 Axes>"
            ],
            "image/png": "[encoded data removed]"
          },
          "metadata": {}
        }
      ]
    },
    {
      "cell_type": "code",
      "source": [],
      "metadata": {
        "id": "UQ7Sgt6lJKn2"
      },
      "execution_count": null,
      "outputs": []
    },
    {
      "cell_type": "code",
      "source": [
        "plt.clf()    #clears the figure\n",
        "acc= history_dict['acc']\n",
        "val_acc = history_dict['val_acc']\n",
        "plt.plot(epochs, acc, 'bo', label='Training acc')\n",
        "plt.plot(epochs, val_acc, 'b', label='Validation acc')\n",
        "plt.title('Training and validation accuracy')   #training and validation accuracy gets plotted\n",
        "plt.xlabel('Epochs')\n",
        "plt.ylabel('Accuracy')\n",
        "plt.legend()\n",
        "\n",
        "plt.show()"
      ],
      "metadata": {
        "colab": {
          "base_uri": "https://localhost:8080/",
          "height": 472
        },
        "outputId": "d8648cd5-26de-4bb2-87a9-23bb5a914f6a",
        "id": "fB4C66xEJK5e"
      },
      "execution_count": null,
      "outputs": [
        {
          "output_type": "display_data",
          "data": {
            "text/plain": [
              "<Figure size 640x480 with 1 Axes>"
            ],
            "image/png": "[encoded data removed]"
          },
          "metadata": {}
        }
      ]
    },
    {
      "cell_type": "code",
      "source": [],
      "metadata": {
        "id": "v59E2pZPJTMK"
      },
      "execution_count": null,
      "outputs": []
    },
    {
      "cell_type": "code",
      "source": [
        "model = models.Sequential()       #a new network is now trained from scratch fo four epochs and then evaluate it on the test data\n",
        "model.add(layers.Dense(16, activation='relu', input_shape=(4,)))\n",
        "model.add(layers.Dense(16, activation='relu'))\n",
        "model.add(layers.Dense(1, activation='sigmoid'))\n",
        "\n",
        "model.compile(optimizer='rmsprop',\n",
        "              loss='binary_crossentropy',\n",
        "              metrics=['accuracy'])\n",
        "\n",
        "model.fit(X_train, y_train, epochs=4, batch_size=512)\n",
        "results = model.evaluate(X_test, y_test)       #the model receives an accuracy of 93%"
      ],
      "metadata": {
        "colab": {
          "base_uri": "https://localhost:8080/"
        },
        "outputId": "d412b832-60f8-41f5-b602-1a110f5417ad",
        "id": "5BNf2s22JTcT"
      },
      "execution_count": null,
      "outputs": [
        {
          "output_type": "stream",
          "name": "stdout",
          "text": [
            "Epoch 1/4\n",
            "1/1 [==============================] - 0s 400ms/step - loss: 10.9564 - accuracy: 0.0000e+00\n",
            "Epoch 2/4\n",
            "1/1 [==============================] - 0s 7ms/step - loss: 7.0416 - accuracy: 0.0000e+00\n",
            "Epoch 3/4\n",
            "1/1 [==============================] - 0s 8ms/step - loss: 4.2867 - accuracy: 0.0127\n",
            "Epoch 4/4\n",
            "1/1 [==============================] - 0s 7ms/step - loss: 2.0920 - accuracy: 0.0127\n",
            "1/1 [==============================] - 0s 94ms/step - loss: 0.6675 - accuracy: 0.5500\n"
          ]
        }
      ]
    },
    {
      "cell_type": "markdown",
      "source": [
        "Kaggle DataSet #2\n"
      ],
      "metadata": {
        "id": "53fgo9LkzTsN"
      }
    },
    {
      "cell_type": "markdown",
      "source": [
        "This data contains information for patients and if they have heart disease or not"
      ],
      "metadata": {
        "id": "eS-4r7oc4TQp"
      }
    },
    {
      "cell_type": "code",
      "source": [
        "!pip install tensorflow\n",
        "\n",
        "import pandas as pd\n",
        "import numpy as np\n",
        "import tensorflow as tf\n",
        "from tensorflow import keras\n",
        "from sklearn.model_selection import train_test_split\n",
        "\n",
        "#Import libraries and install tensorflow"
      ],
      "metadata": {
        "id": "nMK1LNfnzeWm",
        "colab": {
          "base_uri": "https://localhost:8080/"
        },
        "outputId": "e782f7b9-ed7c-4366-ef67-1191b5b13f74"
      },
      "execution_count": null,
      "outputs": [
        {
          "output_type": "stream",
          "name": "stdout",
          "text": [
            "Requirement already satisfied: tensorflow in /usr/local/lib/python3.10/dist-packages (2.13.0)\n",
            "Requirement already satisfied: absl-py>=1.0.0 in /usr/local/lib/python3.10/dist-packages (from tensorflow) (1.4.0)\n",
            "Requirement already satisfied: astunparse>=1.6.0 in /usr/local/lib/python3.10/dist-packages (from tensorflow) (1.6.3)\n",
            "Requirement already satisfied: flatbuffers>=23.1.21 in /usr/local/lib/python3.10/dist-packages (from tensorflow) (23.5.26)\n",
            "Requirement already satisfied: gast<=0.4.0,>=0.2.1 in /usr/local/lib/python3.10/dist-packages (from tensorflow) (0.4.0)\n",
            "Requirement already satisfied: google-pasta>=0.1.1 in /usr/local/lib/python3.10/dist-packages (from tensorflow) (0.2.0)\n",
            "Requirement already satisfied: grpcio<2.0,>=1.24.3 in /usr/local/lib/python3.10/dist-packages (from tensorflow) (1.57.0)\n",
            "Requirement already satisfied: h5py>=2.9.0 in /usr/local/lib/python3.10/dist-packages (from tensorflow) (3.9.0)\n",
            "Requirement already satisfied: keras<2.14,>=2.13.1 in /usr/local/lib/python3.10/dist-packages (from tensorflow) (2.13.1)\n",
            "Requirement already satisfied: libclang>=13.0.0 in /usr/local/lib/python3.10/dist-packages (from tensorflow) (16.0.6)\n",
            "Requirement already satisfied: numpy<=1.24.3,>=1.22 in /usr/local/lib/python3.10/dist-packages (from tensorflow) (1.23.5)\n",
            "Requirement already satisfied: opt-einsum>=2.3.2 in /usr/local/lib/python3.10/dist-packages (from tensorflow) (3.3.0)\n",
            "Requirement already satisfied: packaging in /usr/local/lib/python3.10/dist-packages (from tensorflow) (23.1)\n",
            "Requirement already satisfied: protobuf!=4.21.0,!=4.21.1,!=4.21.2,!=4.21.3,!=4.21.4,!=4.21.5,<5.0.0dev,>=3.20.3 in /usr/local/lib/python3.10/dist-packages (from tensorflow) (3.20.3)\n",
            "Requirement already satisfied: setuptools in /usr/local/lib/python3.10/dist-packages (from tensorflow) (67.7.2)\n",
            "Requirement already satisfied: six>=1.12.0 in /usr/local/lib/python3.10/dist-packages (from tensorflow) (1.16.0)\n",
            "Requirement already satisfied: tensorboard<2.14,>=2.13 in /usr/local/lib/python3.10/dist-packages (from tensorflow) (2.13.0)\n",
            "Requirement already satisfied: tensorflow-estimator<2.14,>=2.13.0 in /usr/local/lib/python3.10/dist-packages (from tensorflow) (2.13.0)\n",
            "Requirement already satisfied: termcolor>=1.1.0 in /usr/local/lib/python3.10/dist-packages (from tensorflow) (2.3.0)\n",
            "Requirement already satisfied: typing-extensions<4.6.0,>=3.6.6 in /usr/local/lib/python3.10/dist-packages (from tensorflow) (4.5.0)\n",
            "Requirement already satisfied: wrapt>=1.11.0 in /usr/local/lib/python3.10/dist-packages (from tensorflow) (1.15.0)\n",
            "Requirement already satisfied: tensorflow-io-gcs-filesystem>=0.23.1 in /usr/local/lib/python3.10/dist-packages (from tensorflow) (0.33.0)\n",
            "Requirement already satisfied: wheel<1.0,>=0.23.0 in /usr/local/lib/python3.10/dist-packages (from astunparse>=1.6.0->tensorflow) (0.41.2)\n",
            "Requirement already satisfied: google-auth<3,>=1.6.3 in /usr/local/lib/python3.10/dist-packages (from tensorboard<2.14,>=2.13->tensorflow) (2.17.3)\n",
            "Requirement already satisfied: google-auth-oauthlib<1.1,>=0.5 in /usr/local/lib/python3.10/dist-packages (from tensorboard<2.14,>=2.13->tensorflow) (1.0.0)\n",
            "Requirement already satisfied: markdown>=2.6.8 in /usr/local/lib/python3.10/dist-packages (from tensorboard<2.14,>=2.13->tensorflow) (3.4.4)\n",
            "Requirement already satisfied: requests<3,>=2.21.0 in /usr/local/lib/python3.10/dist-packages (from tensorboard<2.14,>=2.13->tensorflow) (2.31.0)\n",
            "Requirement already satisfied: tensorboard-data-server<0.8.0,>=0.7.0 in /usr/local/lib/python3.10/dist-packages (from tensorboard<2.14,>=2.13->tensorflow) (0.7.1)\n",
            "Requirement already satisfied: werkzeug>=1.0.1 in /usr/local/lib/python3.10/dist-packages (from tensorboard<2.14,>=2.13->tensorflow) (2.3.7)\n",
            "Requirement already satisfied: cachetools<6.0,>=2.0.0 in /usr/local/lib/python3.10/dist-packages (from google-auth<3,>=1.6.3->tensorboard<2.14,>=2.13->tensorflow) (5.3.1)\n",
            "Requirement already satisfied: pyasn1-modules>=0.2.1 in /usr/local/lib/python3.10/dist-packages (from google-auth<3,>=1.6.3->tensorboard<2.14,>=2.13->tensorflow) (0.3.0)\n",
            "Requirement already satisfied: rsa<5,>=3.1.4 in /usr/local/lib/python3.10/dist-packages (from google-auth<3,>=1.6.3->tensorboard<2.14,>=2.13->tensorflow) (4.9)\n",
            "Requirement already satisfied: requests-oauthlib>=0.7.0 in /usr/local/lib/python3.10/dist-packages (from google-auth-oauthlib<1.1,>=0.5->tensorboard<2.14,>=2.13->tensorflow) (1.3.1)\n",
            "Requirement already satisfied: charset-normalizer<4,>=2 in /usr/local/lib/python3.10/dist-packages (from requests<3,>=2.21.0->tensorboard<2.14,>=2.13->tensorflow) (3.2.0)\n",
            "Requirement already satisfied: idna<4,>=2.5 in /usr/local/lib/python3.10/dist-packages (from requests<3,>=2.21.0->tensorboard<2.14,>=2.13->tensorflow) (3.4)\n",
            "Requirement already satisfied: urllib3<3,>=1.21.1 in /usr/local/lib/python3.10/dist-packages (from requests<3,>=2.21.0->tensorboard<2.14,>=2.13->tensorflow) (2.0.4)\n",
            "Requirement already satisfied: certifi>=2017.4.17 in /usr/local/lib/python3.10/dist-packages (from requests<3,>=2.21.0->tensorboard<2.14,>=2.13->tensorflow) (2023.7.22)\n",
            "Requirement already satisfied: MarkupSafe>=2.1.1 in /usr/local/lib/python3.10/dist-packages (from werkzeug>=1.0.1->tensorboard<2.14,>=2.13->tensorflow) (2.1.3)\n",
            "Requirement already satisfied: pyasn1<0.6.0,>=0.4.6 in /usr/local/lib/python3.10/dist-packages (from pyasn1-modules>=0.2.1->google-auth<3,>=1.6.3->tensorboard<2.14,>=2.13->tensorflow) (0.5.0)\n",
            "Requirement already satisfied: oauthlib>=3.0.0 in /usr/local/lib/python3.10/dist-packages (from requests-oauthlib>=0.7.0->google-auth-oauthlib<1.1,>=0.5->tensorboard<2.14,>=2.13->tensorflow) (3.2.2)\n"
          ]
        }
      ]
    },
    {
      "cell_type": "code",
      "source": [
        "#load CSV data\n",
        "df = pd.read_csv('/content/heart.csv')\n",
        "# change column to binary\n",
        "df['ExerciseAngina'] = df['ExerciseAngina'].map({'N': 1, 'Y': 0})  # Map non-numeric values to 0 and 1\n",
        "\n",
        "#change ST slope Column to binary\n",
        "df['ST_Slope'] = df['ST_Slope'].map({'Up': 1, 'Flat': 0})  # Map non-numeric values to 0 and 1\n",
        "\n",
        "#change sex column to binary\n",
        "df['Sex'] = df['Sex'].map({'M': 1, 'F': 0})  # Map non-numeric values to 0 and 1"
      ],
      "metadata": {
        "id": "jBn4GoDDQ04O"
      },
      "execution_count": null,
      "outputs": []
    },
    {
      "cell_type": "code",
      "source": [
        "# Convert a specific column (e.g., 'float_column') to integers\n",
        "df['Oldpeak'] = df['Oldpeak'].astype(int)\n",
        "\n",
        "#st slope column\n",
        "df['ST_Slope'] = df['ST_Slope'].fillna(0).astype(int)\n",
        "\n",
        "df['ST_Slope'] = df['ST_Slope'].astype(int)\n"
      ],
      "metadata": {
        "id": "T-Is-Tv1tqei"
      },
      "execution_count": null,
      "outputs": []
    },
    {
      "cell_type": "code",
      "source": [
        "columns_to_drop = ['RestingECG', 'ChestPainType']\n",
        "\n",
        "# Drop the specified columns from the DataFrame\n",
        "df.drop(columns=columns_to_drop, inplace=True)\n",
        "\n",
        "# Save the modified DataFrame to a new CSV file\n",
        "\n",
        "output_csv = 'output_dataset.csv'\n",
        "df.to_csv(output_csv, index=False)\n",
        "\n",
        "print(df)"
      ],
      "metadata": {
        "id": "9e2w498qmM21"
      },
      "execution_count": null,
      "outputs": []
    },
    {
      "cell_type": "code",
      "source": [
        "\n",
        "\n",
        "#Extract feathures and target labels\n",
        "target_column = 'HeartDisease'\n",
        "X = df.drop ('HeartDisease', axis=1)\n",
        "y = df ['HeartDisease']\n",
        "\n",
        "\n",
        "#Split data for training and testing\n",
        "\n",
        "X_train, X_test, y_train, y_test = train_test_split(X, y, test_size=0.2, random_state=42)\n"
      ],
      "metadata": {
        "id": "8HU4qn0Tze7R"
      },
      "execution_count": null,
      "outputs": []
    },
    {
      "cell_type": "code",
      "source": [
        "df.columns\n",
        "print(df.head(5))"
      ],
      "metadata": {
        "colab": {
          "base_uri": "https://localhost:8080/"
        },
        "id": "WYv1Kl2TkuAh",
        "outputId": "d772fb72-c5a5-44da-b355-95cdf003299e"
      },
      "execution_count": null,
      "outputs": [
        {
          "output_type": "stream",
          "name": "stdout",
          "text": [
            "   Age  Sex  RestingBP  Cholesterol  FastingBS  MaxHR  ExerciseAngina  \\\n",
            "0   40    1        140          289          0    172               1   \n",
            "1   49    0        160          180          0    156               1   \n",
            "2   37    1        130          283          0     98               1   \n",
            "3   48    0        138          214          0    108               0   \n",
            "4   54    1        150          195          0    122               1   \n",
            "\n",
            "   Oldpeak  ST_Slope  HeartDisease  \n",
            "0        0         1             0  \n",
            "1        1         0             1  \n",
            "2        0         1             0  \n",
            "3        1         0             1  \n",
            "4        0         1             0  \n"
          ]
        }
      ]
    },
    {
      "cell_type": "code",
      "source": [
        "#verify column data types\n",
        "df.dtypes"
      ],
      "metadata": {
        "colab": {
          "base_uri": "https://localhost:8080/"
        },
        "id": "G0cZNX-AxqRB",
        "outputId": "1bbd72c4-942e-4c85-90dc-58fef95f0847"
      },
      "execution_count": null,
      "outputs": [
        {
          "output_type": "execute_result",
          "data": {
            "text/plain": [
              "Age               int64\n",
              "Sex               int64\n",
              "RestingBP         int64\n",
              "Cholesterol       int64\n",
              "FastingBS         int64\n",
              "MaxHR             int64\n",
              "ExerciseAngina    int64\n",
              "Oldpeak           int64\n",
              "ST_Slope          int64\n",
              "HeartDisease      int64\n",
              "dtype: object"
            ]
          },
          "metadata": {},
          "execution_count": 149
        }
      ]
    },
    {
      "cell_type": "code",
      "source": [
        "#Add layers and use Sequential\n",
        "\n",
        "model = keras.Sequential()\n",
        "\n",
        "# Add an input layer (assuming your input features have 10 dimensions)\n",
        "model.add(keras.layers.Input(shape=(9,)))\n",
        "\n",
        "# Add one or more hidden layers\n",
        "model.add(keras.layers.Dense(64, activation='relu'))\n",
        "model.add(keras.layers.Dense(32, activation='relu'))\n",
        "\n",
        "# Add an output layer (assuming you have a binary classification task)\n",
        "model.add(keras.layers.Dense(1, activation='sigmoid'))"
      ],
      "metadata": {
        "id": "_V6A6Ki5zfQ7"
      },
      "execution_count": null,
      "outputs": []
    },
    {
      "cell_type": "code",
      "source": [
        "# loss function and optimizer\n",
        "\n",
        "model.compile(optimizer='adam', loss='binary_crossentropy', metrics=['accuracy'])"
      ],
      "metadata": {
        "id": "KV8_UmlczfyB"
      },
      "execution_count": null,
      "outputs": []
    },
    {
      "cell_type": "code",
      "source": [
        "#train model\n",
        "\n",
        "# Specify the number of training epochs and batch size\n",
        "epochs = 10\n",
        "batch_size = 16\n",
        "\n",
        "# Train the model\n",
        "model.fit(X_train, y_train, epochs=epochs, batch_size=batch_size, validation_data=(X_test, y_test))\n",
        "\n",
        "#Converted all o the columns to ints but we were stll runing into this error here in this code. Unsure because the columns are not floats."
      ],
      "metadata": {
        "id": "OQRYedNqzgJD",
        "colab": {
          "base_uri": "https://localhost:8080/"
        },
        "outputId": "93bbe783-d8b7-4dd1-a0a7-e8a53ac3d838"
      },
      "execution_count": null,
      "outputs": [
        {
          "output_type": "stream",
          "name": "stdout",
          "text": [
            "Epoch 1/10\n",
            "46/46 [==============================] - 1s 6ms/step - loss: 1.2224 - accuracy: 0.6117 - val_loss: 0.5962 - val_accuracy: 0.7120\n",
            "Epoch 2/10\n",
            "46/46 [==============================] - 0s 3ms/step - loss: 0.6553 - accuracy: 0.6757 - val_loss: 1.0555 - val_accuracy: 0.5707\n",
            "Epoch 3/10\n",
            "46/46 [==============================] - 0s 3ms/step - loss: 0.6604 - accuracy: 0.6948 - val_loss: 0.8231 - val_accuracy: 0.5054\n",
            "Epoch 4/10\n",
            "46/46 [==============================] - 0s 3ms/step - loss: 0.5709 - accuracy: 0.7480 - val_loss: 0.6864 - val_accuracy: 0.6196\n",
            "Epoch 5/10\n",
            "46/46 [==============================] - 0s 3ms/step - loss: 0.5297 - accuracy: 0.7561 - val_loss: 0.6680 - val_accuracy: 0.5707\n",
            "Epoch 6/10\n",
            "46/46 [==============================] - 0s 3ms/step - loss: 0.5532 - accuracy: 0.7452 - val_loss: 0.5626 - val_accuracy: 0.7228\n",
            "Epoch 7/10\n",
            "46/46 [==============================] - 0s 2ms/step - loss: 0.6443 - accuracy: 0.6989 - val_loss: 0.6559 - val_accuracy: 0.6957\n",
            "Epoch 8/10\n",
            "46/46 [==============================] - 0s 3ms/step - loss: 0.6036 - accuracy: 0.7275 - val_loss: 0.5597 - val_accuracy: 0.7391\n",
            "Epoch 9/10\n",
            "46/46 [==============================] - 0s 3ms/step - loss: 0.5010 - accuracy: 0.7766 - val_loss: 0.6081 - val_accuracy: 0.7065\n",
            "Epoch 10/10\n",
            "46/46 [==============================] - 0s 2ms/step - loss: 0.5005 - accuracy: 0.7670 - val_loss: 0.6104 - val_accuracy: 0.7011\n"
          ]
        },
        {
          "output_type": "execute_result",
          "data": {
            "text/plain": [
              "<keras.src.callbacks.History at 0x7c32d3367f40>"
            ]
          },
          "metadata": {},
          "execution_count": 161
        }
      ]
    },
    {
      "cell_type": "code",
      "source": [
        "#evaluate model\n",
        "\n",
        "# Evaluate the model on the test data\n",
        "test_loss, test_accuracy = model.evaluate(X_test, y_test)\n",
        "print(f'Test Loss: {test_loss}')\n",
        "print(f'Test Accuracy: {test_accuracy}')"
      ],
      "metadata": {
        "id": "qtTATHHjzgn1",
        "colab": {
          "base_uri": "https://localhost:8080/"
        },
        "outputId": "a08d0bc2-50c7-401d-f767-1c5495a43a12"
      },
      "execution_count": null,
      "outputs": [
        {
          "output_type": "stream",
          "name": "stdout",
          "text": [
            "6/6 [==============================] - 0s 2ms/step - loss: 0.6104 - accuracy: 0.7011\n",
            "Test Loss: 0.6104425191879272\n",
            "Test Accuracy: 0.7010869383811951\n"
          ]
        }
      ]
    },
    {
      "cell_type": "code",
      "source": [
        "x_val = X_train[:4]    #create a validation set by setting apart 4 samples from the original data\n",
        "partial_X_train = X_train[4:]\n",
        "y_val = y_train[:4]\n",
        "partial_y_train = y_train[4:]"
      ],
      "metadata": {
        "id": "LhIW8iYb1gBs"
      },
      "execution_count": null,
      "outputs": []
    },
    {
      "cell_type": "code",
      "source": [
        "model.compile(optimizer='rmsprop', #train the model for 20 epochs in mini batches of 512 samples\n",
        "              loss='binary_crossentropy',\n",
        "              metrics=['acc'])\n",
        "history = model.fit(partial_X_train, #20 iterations over all samples in the x_train and y_train tensors\n",
        "                    partial_y_train,\n",
        "                    epochs=20,\n",
        "                    batch_size=512,\n",
        "                    validation_data=(x_val, y_val)) #passing the validation data as the validation_data argument"
      ],
      "metadata": {
        "colab": {
          "base_uri": "https://localhost:8080/"
        },
        "id": "t7NoMpy71ZBy",
        "outputId": "090ce399-70df-4a0c-af17-bcc8d79d9ff7"
      },
      "execution_count": null,
      "outputs": [
        {
          "output_type": "stream",
          "name": "stdout",
          "text": [
            "Epoch 1/20\n",
            "2/2 [==============================] - 1s 288ms/step - loss: 1.6426 - acc: 0.7096 - val_loss: 0.1635 - val_acc: 1.0000\n",
            "Epoch 2/20\n",
            "2/2 [==============================] - 0s 101ms/step - loss: 0.8673 - acc: 0.6534 - val_loss: 0.7257 - val_acc: 0.7500\n",
            "Epoch 3/20\n",
            "2/2 [==============================] - 0s 61ms/step - loss: 1.2667 - acc: 0.5808 - val_loss: 0.4066 - val_acc: 0.7500\n",
            "Epoch 4/20\n",
            "2/2 [==============================] - 0s 73ms/step - loss: 0.8371 - acc: 0.6219 - val_loss: 0.3158 - val_acc: 0.7500\n",
            "Epoch 5/20\n",
            "2/2 [==============================] - 0s 69ms/step - loss: 0.6849 - acc: 0.6644 - val_loss: 0.2735 - val_acc: 0.7500\n",
            "Epoch 6/20\n",
            "2/2 [==============================] - 0s 93ms/step - loss: 0.6637 - acc: 0.6849 - val_loss: 0.2842 - val_acc: 0.7500\n",
            "Epoch 7/20\n",
            "2/2 [==============================] - 0s 91ms/step - loss: 0.6684 - acc: 0.6726 - val_loss: 0.2885 - val_acc: 0.7500\n",
            "Epoch 8/20\n",
            "2/2 [==============================] - 0s 100ms/step - loss: 0.6933 - acc: 0.6521 - val_loss: 0.2790 - val_acc: 0.7500\n",
            "Epoch 9/20\n",
            "2/2 [==============================] - 0s 146ms/step - loss: 0.5785 - acc: 0.7123 - val_loss: 0.1553 - val_acc: 1.0000\n",
            "Epoch 10/20\n",
            "2/2 [==============================] - 0s 245ms/step - loss: 0.4822 - acc: 0.7836 - val_loss: 0.2179 - val_acc: 0.7500\n",
            "Epoch 11/20\n",
            "2/2 [==============================] - 0s 173ms/step - loss: 0.5737 - acc: 0.7110 - val_loss: 0.2936 - val_acc: 0.7500\n",
            "Epoch 12/20\n",
            "2/2 [==============================] - 0s 186ms/step - loss: 0.6421 - acc: 0.6849 - val_loss: 0.2772 - val_acc: 0.7500\n",
            "Epoch 13/20\n",
            "2/2 [==============================] - 0s 147ms/step - loss: 0.6667 - acc: 0.6795 - val_loss: 0.3439 - val_acc: 0.7500\n",
            "Epoch 14/20\n",
            "2/2 [==============================] - 0s 110ms/step - loss: 0.7983 - acc: 0.6123 - val_loss: 0.3190 - val_acc: 0.7500\n",
            "Epoch 15/20\n",
            "2/2 [==============================] - 0s 131ms/step - loss: 0.6571 - acc: 0.6863 - val_loss: 0.1984 - val_acc: 0.7500\n",
            "Epoch 16/20\n",
            "2/2 [==============================] - 0s 124ms/step - loss: 0.5355 - acc: 0.7384 - val_loss: 0.2325 - val_acc: 0.7500\n",
            "Epoch 17/20\n",
            "2/2 [==============================] - 0s 103ms/step - loss: 0.5977 - acc: 0.6945 - val_loss: 0.3154 - val_acc: 0.7500\n",
            "Epoch 18/20\n",
            "2/2 [==============================] - 0s 129ms/step - loss: 0.7070 - acc: 0.6562 - val_loss: 0.3059 - val_acc: 0.7500\n",
            "Epoch 19/20\n",
            "2/2 [==============================] - 0s 124ms/step - loss: 0.7334 - acc: 0.6452 - val_loss: 0.3219 - val_acc: 0.7500\n",
            "Epoch 20/20\n",
            "2/2 [==============================] - 0s 170ms/step - loss: 0.6955 - acc: 0.6726 - val_loss: 0.2417 - val_acc: 0.7500\n"
          ]
        }
      ]
    },
    {
      "cell_type": "code",
      "source": [
        "import matplotlib.pyplot as plt #use Matplotlib to plot the training and validation loss side by side\n",
        "\n",
        "history_dict = history.history\n",
        "loss_values = history_dict['loss']\n",
        "val_loss_values = history_dict['val_loss']\n",
        "\n",
        "epochs = range(1, len(loss_values) + 1)\n",
        "\n",
        "plt.plot(epochs, loss_values, 'bo', label='Training loss')  #\"bo\" is for \"blue dot\"\n",
        "plt.plot(epochs, val_loss_values, 'b', label='Validation loss') # \"b\" is for solid blue line\n",
        "plt.title('Training and validation loss')\n",
        "plt.xlabel('Epochs')\n",
        "plt.ylabel('Loss')\n",
        "plt.legend()\n",
        "\n",
        "plt.show()"
      ],
      "metadata": {
        "colab": {
          "base_uri": "https://localhost:8080/",
          "height": 472
        },
        "id": "sKB9ELVK1QO0",
        "outputId": "47caf2aa-6e63-4777-c536-4690c80ee92b"
      },
      "execution_count": null,
      "outputs": [
        {
          "output_type": "display_data",
          "data": {
            "text/plain": [
              "<Figure size 640x480 with 1 Axes>"
            ],
            "image/png": "[encoded data removed]"
          },
          "metadata": {}
        }
      ]
    },
    {
      "cell_type": "code",
      "source": [
        "plt.clf()    #clears the figure\n",
        "acc= history_dict['acc']\n",
        "val_acc = history_dict['val_acc']\n",
        "plt.plot(epochs, acc, 'bo', label='Training acc')\n",
        "plt.plot(epochs, val_acc, 'b', label='Validation acc')\n",
        "plt.title('Training and validation accuracy')   #training and validation accuracy gets plotted\n",
        "plt.xlabel('Epochs')\n",
        "plt.ylabel('Accuracy')\n",
        "plt.legend()\n",
        "\n",
        "plt.show()"
      ],
      "metadata": {
        "colab": {
          "base_uri": "https://localhost:8080/",
          "height": 472
        },
        "id": "1GS3B1eT1px3",
        "outputId": "16fc00ad-3119-4284-ff4e-b846f674c2de"
      },
      "execution_count": null,
      "outputs": [
        {
          "output_type": "display_data",
          "data": {
            "text/plain": [
              "<Figure size 640x480 with 1 Axes>"
            ],
            "image/png": "[encoded data removed]"
          },
          "metadata": {}
        }
      ]
    },
    {
      "cell_type": "markdown",
      "source": [
        "\n",
        "\n",
        "\n",
        "Dataset #3\n",
        "\n"
      ],
      "metadata": {
        "id": "9BKbv7uu0Ss_"
      }
    },
    {
      "cell_type": "markdown",
      "source": [
        "This fashion dataset consists of 60,000 training images and 10,000 testing images, each of size 28x28 pixels. These images represent various clothing items and accessories."
      ],
      "metadata": {
        "id": "C4Gw-xaNzo7J"
      }
    },
    {
      "cell_type": "code",
      "source": [
        "import numpy as np    # Import necessary libraries and modules for building a neural network on the Fashion MNIST dataset\n",
        "import matplotlib.pyplot as plt\n",
        "from keras.datasets import fashion_mnist\n",
        "from keras.models import Sequential\n",
        "from keras.layers import Flatten, Dense\n",
        "from keras.optimizers import SGD, Adam\n",
        "from keras.losses import CategoricalCrossentropy\n",
        "from keras.utils import to_categorical"
      ],
      "metadata": {
        "id": "CJxv8vZpzkMZ"
      },
      "execution_count": null,
      "outputs": []
    },
    {
      "cell_type": "code",
      "source": [
        "# Load the Fashion MNIST dataset\n",
        "(X_train, y_train), (X_test, y_test) = fashion_mnist.load_data()"
      ],
      "metadata": {
        "colab": {
          "base_uri": "https://localhost:8080/"
        },
        "id": "di0M-Ofxzt2q",
        "outputId": "0b2fa59e-e8b8-4a35-d4bb-15771e39033b"
      },
      "execution_count": null,
      "outputs": [
        {
          "output_type": "stream",
          "name": "stdout",
          "text": [
            "Downloading data from https://storage.googleapis.com/tensorflow/tf-keras-datasets/train-labels-idx1-ubyte.gz\n",
            "29515/29515 [==============================] - 0s 0us/step\n",
            "Downloading data from https://storage.googleapis.com/tensorflow/tf-keras-datasets/train-images-idx3-ubyte.gz\n",
            "26421880/26421880 [==============================] - 0s 0us/step\n",
            "Downloading data from https://storage.googleapis.com/tensorflow/tf-keras-datasets/t10k-labels-idx1-ubyte.gz\n",
            "5148/5148 [==============================] - 0s 0us/step\n",
            "Downloading data from https://storage.googleapis.com/tensorflow/tf-keras-datasets/t10k-images-idx3-ubyte.gz\n",
            "4422102/4422102 [==============================] - 0s 0us/step\n"
          ]
        }
      ]
    },
    {
      "cell_type": "code",
      "source": [
        "# Normalize pixel values to be between 0 and 1\n",
        "X_train, X_test = X_train / 255.0, X_test / 255.0"
      ],
      "metadata": {
        "id": "U3Jub3FXzyFH"
      },
      "execution_count": null,
      "outputs": []
    },
    {
      "cell_type": "code",
      "source": [
        "# Convert labels to one-hot encoding\n",
        "y_train = to_categorical(y_train, num_classes=10)  # 10 classes in Fashion MNIST\n",
        "y_test = to_categorical(y_test, num_classes=10)"
      ],
      "metadata": {
        "id": "sAybhnyyz0Yw"
      },
      "execution_count": null,
      "outputs": []
    },
    {
      "cell_type": "code",
      "source": [
        "# Build a simple neural network model\n",
        "model_sgd = Sequential([\n",
        "    Flatten(input_shape=(28, 28)),\n",
        "    Dense(128, activation='relu'),\n",
        "    Dense(10, activation='softmax')\n",
        "])"
      ],
      "metadata": {
        "id": "eE5nNOxQz4HI"
      },
      "execution_count": null,
      "outputs": []
    },
    {
      "cell_type": "code",
      "source": [
        "model_adam = Sequential([  # Define a neural network model using Keras Sequential API\n",
        "    Flatten(input_shape=(28, 28)),\n",
        "    Dense(128, activation='relu'),\n",
        "    Dense(10, activation='softmax')\n",
        "])"
      ],
      "metadata": {
        "id": "mG86bxBjz5aY"
      },
      "execution_count": null,
      "outputs": []
    },
    {
      "cell_type": "code",
      "source": [
        "# Compile the models with categorical cross-entropy loss and optimizers\n",
        "model_sgd.compile(optimizer=SGD(learning_rate=0.01),\n",
        "                  loss='categorical_crossentropy',\n",
        "                  metrics=['accuracy'])\n",
        "\n",
        "model_adam.compile(optimizer=Adam(learning_rate=0.001),\n",
        "                   loss='categorical_crossentropy',\n",
        "                   metrics=['accuracy'])"
      ],
      "metadata": {
        "id": "OUdCQQ3Tz87t"
      },
      "execution_count": null,
      "outputs": []
    },
    {
      "cell_type": "code",
      "source": [
        "# Train the models\n",
        "history_sgd = model_sgd.fit(X_train, y_train, epochs=10, batch_size=32, validation_split=0.2, verbose=1)\n",
        "history_adam = model_adam.fit(X_train, y_train, epochs=10, batch_size=32, validation_split=0.2, verbose=1)"
      ],
      "metadata": {
        "colab": {
          "base_uri": "https://localhost:8080/"
        },
        "id": "ZkSe7CFV0CBO",
        "outputId": "92768ceb-966a-4e7a-85e7-4099392654df"
      },
      "execution_count": null,
      "outputs": [
        {
          "output_type": "stream",
          "name": "stdout",
          "text": [
            "Epoch 1/10\n",
            "1500/1500 [==============================] - 11s 7ms/step - loss: 0.8054 - accuracy: 0.7409 - val_loss: 0.5925 - val_accuracy: 0.7993\n",
            "Epoch 2/10\n",
            "1500/1500 [==============================] - 4s 3ms/step - loss: 0.5387 - accuracy: 0.8182 - val_loss: 0.5105 - val_accuracy: 0.8214\n",
            "Epoch 3/10\n",
            "1500/1500 [==============================] - 4s 3ms/step - loss: 0.4863 - accuracy: 0.8335 - val_loss: 0.4786 - val_accuracy: 0.8317\n",
            "Epoch 4/10\n",
            "1500/1500 [==============================] - 6s 4ms/step - loss: 0.4593 - accuracy: 0.8417 - val_loss: 0.4567 - val_accuracy: 0.8397\n",
            "Epoch 5/10\n",
            "1500/1500 [==============================] - 4s 3ms/step - loss: 0.4404 - accuracy: 0.8473 - val_loss: 0.4434 - val_accuracy: 0.8439\n",
            "Epoch 6/10\n",
            "1500/1500 [==============================] - 4s 3ms/step - loss: 0.4252 - accuracy: 0.8530 - val_loss: 0.4312 - val_accuracy: 0.8492\n",
            "Epoch 7/10\n",
            "1500/1500 [==============================] - 5s 4ms/step - loss: 0.4130 - accuracy: 0.8569 - val_loss: 0.4156 - val_accuracy: 0.8524\n",
            "Epoch 8/10\n",
            "1500/1500 [==============================] - 4s 3ms/step - loss: 0.4026 - accuracy: 0.8600 - val_loss: 0.4118 - val_accuracy: 0.8559\n",
            "Epoch 9/10\n",
            "1500/1500 [==============================] - 5s 3ms/step - loss: 0.3940 - accuracy: 0.8638 - val_loss: 0.4191 - val_accuracy: 0.8510\n",
            "Epoch 10/10\n",
            "1500/1500 [==============================] - 5s 4ms/step - loss: 0.3857 - accuracy: 0.8654 - val_loss: 0.3954 - val_accuracy: 0.8627\n",
            "Epoch 1/10\n",
            "1500/1500 [==============================] - 8s 5ms/step - loss: 0.5176 - accuracy: 0.8196 - val_loss: 0.4258 - val_accuracy: 0.8473\n",
            "Epoch 2/10\n",
            "1500/1500 [==============================] - 7s 4ms/step - loss: 0.3910 - accuracy: 0.8601 - val_loss: 0.3837 - val_accuracy: 0.8589\n",
            "Epoch 3/10\n",
            "1500/1500 [==============================] - 7s 5ms/step - loss: 0.3466 - accuracy: 0.8745 - val_loss: 0.3608 - val_accuracy: 0.8685\n",
            "Epoch 4/10\n",
            "1500/1500 [==============================] - 6s 4ms/step - loss: 0.3220 - accuracy: 0.8826 - val_loss: 0.3466 - val_accuracy: 0.8766\n",
            "Epoch 5/10\n",
            "1500/1500 [==============================] - 7s 5ms/step - loss: 0.3007 - accuracy: 0.8894 - val_loss: 0.3376 - val_accuracy: 0.8771\n",
            "Epoch 6/10\n",
            "1500/1500 [==============================] - 6s 4ms/step - loss: 0.2827 - accuracy: 0.8947 - val_loss: 0.3490 - val_accuracy: 0.8808\n",
            "Epoch 7/10\n",
            "1500/1500 [==============================] - 8s 6ms/step - loss: 0.2706 - accuracy: 0.9005 - val_loss: 0.3314 - val_accuracy: 0.8823\n",
            "Epoch 8/10\n",
            "1500/1500 [==============================] - 6s 4ms/step - loss: 0.2612 - accuracy: 0.9029 - val_loss: 0.3288 - val_accuracy: 0.8808\n",
            "Epoch 9/10\n",
            "1500/1500 [==============================] - 10s 7ms/step - loss: 0.2494 - accuracy: 0.9057 - val_loss: 0.3149 - val_accuracy: 0.8898\n",
            "Epoch 10/10\n",
            "1500/1500 [==============================] - 6s 4ms/step - loss: 0.2398 - accuracy: 0.9104 - val_loss: 0.3221 - val_accuracy: 0.8862\n"
          ]
        }
      ]
    },
    {
      "cell_type": "code",
      "source": [
        "# Evaluate the models on the test set\n",
        "loss_sgd, accuracy_sgd = model_sgd.evaluate(X_test, y_test)\n",
        "loss_adam, accuracy_adam = model_adam.evaluate(X_test, y_test)"
      ],
      "metadata": {
        "colab": {
          "base_uri": "https://localhost:8080/"
        },
        "id": "knLj6y2t0FPh",
        "outputId": "9ddc4deb-4dc3-458e-d9dd-dd906f57252e"
      },
      "execution_count": null,
      "outputs": [
        {
          "output_type": "stream",
          "name": "stdout",
          "text": [
            "313/313 [==============================] - 1s 2ms/step - loss: 0.4181 - accuracy: 0.8499\n",
            "313/313 [==============================] - 1s 2ms/step - loss: 0.3485 - accuracy: 0.8780\n"
          ]
        }
      ]
    },
    {
      "cell_type": "code",
      "source": [
        "print('SGD Model - Test accuracy:', accuracy_sgd)  # Print the test accuracy for the model trained with SGD optimizer\n",
        "print('Adam Model - Test accuracy:', accuracy_adam)  # Print the test accuracy for the model trained with Adam optimizer"
      ],
      "metadata": {
        "colab": {
          "base_uri": "https://localhost:8080/"
        },
        "id": "52N2Ef8a0I0Y",
        "outputId": "ddd07168-0619-414b-b657-a6d35db49222"
      },
      "execution_count": null,
      "outputs": [
        {
          "output_type": "stream",
          "name": "stdout",
          "text": [
            "SGD Model - Test accuracy: 0.8499000072479248\n",
            "Adam Model - Test accuracy: 0.878000020980835\n"
          ]
        }
      ]
    },
    {
      "cell_type": "code",
      "source": [
        "# Plot training history\n",
        "plt.figure(figsize=(12, 4))\n",
        "plt.subplot(1, 2, 1)\n",
        "plt.plot(history_sgd.history['loss'], label='SGD Training Loss')      # Subplot 1: SGD Training and Validation Loss\n",
        "plt.plot(history_sgd.history['val_loss'], label='SGD Validation Loss')\n",
        "plt.xlabel('Epoch')\n",
        "plt.ylabel('Loss')\n",
        "plt.legend()\n",
        "plt.title('SGD Training and Validation Loss')\n",
        "\n",
        "plt.subplot(1, 2, 2)\n",
        "plt.plot(history_adam.history['loss'], label='Adam Training Loss')    # Subplot 2: Adam Training and Validation Loss\n",
        "plt.plot(history_adam.history['val_loss'], label='Adam Validation Loss')\n",
        "plt.xlabel('Epoch')\n",
        "plt.ylabel('Loss')\n",
        "plt.legend()\n",
        "plt.title('Adam Training and Validation Loss')\n",
        "\n",
        "plt.show()  # Display the entire plot with both subplots"
      ],
      "metadata": {
        "colab": {
          "base_uri": "https://localhost:8080/",
          "height": 410
        },
        "id": "hulcc1-z0L4c",
        "outputId": "d136cb69-ebfb-409e-bcb0-7543591dcae9"
      },
      "execution_count": null,
      "outputs": [
        {
          "output_type": "display_data",
          "data": {
            "text/plain": [
              "<Figure size 1200x400 with 2 Axes>"
            ],
            "image/png": "[encoded data removed]"
          },
          "metadata": {}
        }
      ]
    }
  ]
}